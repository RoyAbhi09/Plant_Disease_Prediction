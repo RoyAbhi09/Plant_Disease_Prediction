{
  "cells": [
    {
      "cell_type": "code",
      "execution_count": null,
      "metadata": {
        "id": "ce_pExQVNk5Q"
      },
      "outputs": [],
      "source": [
        "import numpy as np\n",
        "import random\n",
        "import tensorflow as tf\n",
        "random.seed(0)\n",
        "np.random.seed(0)\n",
        "tf.random.set_seed(0)"
      ]
    },
    {
      "cell_type": "markdown",
      "metadata": {
        "id": "gNikdot0NnoX"
      },
      "source": [
        "\n",
        "Data reproducibility is important so that the same predictions are made everytime. Seed ensures that every time random is called, the order of values called by random stays the same."
      ]
    },
    {
      "cell_type": "code",
      "execution_count": null,
      "metadata": {
        "id": "GVSsvZrPNlzN"
      },
      "outputs": [],
      "source": [
        "import os\n",
        "import json\n",
        "from zipfile import ZipFile\n",
        "from PIL import Image\n",
        "import matplotlib.pyplot as plt\n",
        "import numpy as np\n",
        "import matplotlib.image as mpimg\n",
        "from tensorflow.keras.preprocessing.image import ImageDataGenerator\n",
        "from tensorflow.keras import layers, models"
      ]
    },
    {
      "cell_type": "code",
      "execution_count": null,
      "metadata": {
        "colab": {
          "base_uri": "https://localhost:8080/"
        },
        "id": "kgqHsqdANyxf",
        "outputId": "8b598fba-bd11-4146-8fa4-2bd24a261a51"
      },
      "outputs": [
        {
          "output_type": "stream",
          "name": "stdout",
          "text": [
            "Requirement already satisfied: kaggle in /usr/local/lib/python3.10/dist-packages (1.6.14)\n",
            "Requirement already satisfied: six>=1.10 in /usr/local/lib/python3.10/dist-packages (from kaggle) (1.16.0)\n",
            "Requirement already satisfied: certifi>=2023.7.22 in /usr/local/lib/python3.10/dist-packages (from kaggle) (2024.6.2)\n",
            "Requirement already satisfied: python-dateutil in /usr/local/lib/python3.10/dist-packages (from kaggle) (2.8.2)\n",
            "Requirement already satisfied: requests in /usr/local/lib/python3.10/dist-packages (from kaggle) (2.31.0)\n",
            "Requirement already satisfied: tqdm in /usr/local/lib/python3.10/dist-packages (from kaggle) (4.66.4)\n",
            "Requirement already satisfied: python-slugify in /usr/local/lib/python3.10/dist-packages (from kaggle) (8.0.4)\n",
            "Requirement already satisfied: urllib3 in /usr/local/lib/python3.10/dist-packages (from kaggle) (2.0.7)\n",
            "Requirement already satisfied: bleach in /usr/local/lib/python3.10/dist-packages (from kaggle) (6.1.0)\n",
            "Requirement already satisfied: webencodings in /usr/local/lib/python3.10/dist-packages (from bleach->kaggle) (0.5.1)\n",
            "Requirement already satisfied: text-unidecode>=1.3 in /usr/local/lib/python3.10/dist-packages (from python-slugify->kaggle) (1.3)\n",
            "Requirement already satisfied: charset-normalizer<4,>=2 in /usr/local/lib/python3.10/dist-packages (from requests->kaggle) (3.3.2)\n",
            "Requirement already satisfied: idna<4,>=2.5 in /usr/local/lib/python3.10/dist-packages (from requests->kaggle) (3.7)\n"
          ]
        }
      ],
      "source": [
        "!pip install kaggle"
      ]
    },
    {
      "cell_type": "code",
      "execution_count": null,
      "metadata": {
        "id": "Z2XFrDClNuIU"
      },
      "outputs": [],
      "source": [
        "kaggle_dict=json.load(open(\"kaggle.json\"))"
      ]
    },
    {
      "cell_type": "markdown",
      "metadata": {
        "id": "xrd6vRxuObMj"
      },
      "source": [
        "Kaggle dictionary consists of key value pairs in the format dict[username]:key"
      ]
    },
    {
      "cell_type": "markdown",
      "metadata": {
        "id": "qBgpyywiOgmb"
      },
      "source": [
        "The os.environ command in Python is used to interact with the environment variables of the operating system. Environment variables are key-value pairs that can affect the way running processes will behave on a computer."
      ]
    },
    {
      "cell_type": "code",
      "execution_count": null,
      "metadata": {
        "id": "9sHOtZ4COfOs"
      },
      "outputs": [],
      "source": [
        "os.environ['KAGGLE_USERNAME']=kaggle_dict['username']\n",
        "os.environ['KAGGLE_KEY']=kaggle_dict['key']"
      ]
    },
    {
      "cell_type": "code",
      "execution_count": null,
      "metadata": {
        "colab": {
          "base_uri": "https://localhost:8080/"
        },
        "id": "unKqNXfcOkq8",
        "outputId": "f9687b55-cf0b-44d6-cc42-ea89d4188d5b"
      },
      "outputs": [
        {
          "output_type": "stream",
          "name": "stdout",
          "text": [
            "Dataset URL: https://www.kaggle.com/datasets/abdallahalidev/plantvillage-dataset\n",
            "License(s): CC-BY-NC-SA-4.0\n",
            "Downloading plantvillage-dataset.zip to /content\n",
            "100% 2.04G/2.04G [01:03<00:00, 37.8MB/s]\n",
            "100% 2.04G/2.04G [01:03<00:00, 34.7MB/s]\n"
          ]
        }
      ],
      "source": [
        "!kaggle datasets download -d abdallahalidev/plantvillage-dataset"
      ]
    },
    {
      "cell_type": "markdown",
      "metadata": {
        "id": "gsM9dRU3OwOW"
      },
      "source": [
        "ls lists all the files in local directory to make sure dataset is present"
      ]
    },
    {
      "cell_type": "code",
      "execution_count": null,
      "metadata": {
        "colab": {
          "base_uri": "https://localhost:8080/"
        },
        "id": "0iWqAo5aOng4",
        "outputId": "ac7b73b0-c4aa-4fa6-b789-5518d77db41a"
      },
      "outputs": [
        {
          "output_type": "stream",
          "name": "stdout",
          "text": [
            "drive  kaggle.json  plantvillage-dataset.zip  sample_data\n"
          ]
        }
      ],
      "source": [
        "!ls"
      ]
    },
    {
      "cell_type": "code",
      "execution_count": null,
      "metadata": {
        "id": "_McK4yd8Oynz"
      },
      "outputs": [],
      "source": [
        "with ZipFile(\"plantvillage-dataset.zip\",\"r\") as zip:\n",
        "  zip.extractall()"
      ]
    },
    {
      "cell_type": "code",
      "execution_count": null,
      "metadata": {
        "id": "GBmZ-2UsO4gn"
      },
      "outputs": [],
      "source": [
        "colored_set='plantvillage dataset/color'"
      ]
    },
    {
      "cell_type": "code",
      "execution_count": null,
      "metadata": {
        "id": "tWMoqklLQcSQ"
      },
      "outputs": [],
      "source": [
        "img_size=210\n",
        "batch_size=64"
      ]
    },
    {
      "cell_type": "code",
      "execution_count": null,
      "metadata": {
        "id": "aoSgOHi4RP-J"
      },
      "outputs": [],
      "source": [
        "gen=ImageDataGenerator(rescale=1./255,\n",
        "                           validation_split=0.2)"
      ]
    },
    {
      "cell_type": "code",
      "execution_count": null,
      "metadata": {
        "colab": {
          "base_uri": "https://localhost:8080/"
        },
        "id": "TQJS2DFqSF3C",
        "outputId": "d91fca7d-9920-44d6-f4f8-10a003798a25"
      },
      "outputs": [
        {
          "output_type": "stream",
          "name": "stdout",
          "text": [
            "Found 43456 images belonging to 38 classes.\n"
          ]
        }
      ],
      "source": [
        "train=gen.flow_from_directory(\n",
        "    colored_set,\n",
        "    target_size=(img_size,img_size),\n",
        "    batch_size=batch_size,\n",
        "    subset='training',\n",
        "    class_mode='categorical'\n",
        ")\n"
      ]
    },
    {
      "cell_type": "code",
      "execution_count": null,
      "metadata": {
        "colab": {
          "base_uri": "https://localhost:8080/"
        },
        "id": "PFUwmGKTS9oH",
        "outputId": "cd07ee8a-1736-4c25-b4ec-609389da96cd"
      },
      "outputs": [
        {
          "output_type": "stream",
          "name": "stdout",
          "text": [
            "Found 10849 images belonging to 38 classes.\n"
          ]
        }
      ],
      "source": [
        "validation=gen.flow_from_directory(\n",
        "    colored_set,\n",
        "    target_size=(img_size,img_size),\n",
        "    batch_size=batch_size,\n",
        "    subset='validation',\n",
        "    class_mode='categorical'\n",
        ")"
      ]
    },
    {
      "cell_type": "code",
      "execution_count": null,
      "metadata": {
        "id": "gF-5TvheTnfu"
      },
      "outputs": [],
      "source": [
        "model=models.Sequential() # we use sequential when out layers are stacked one upon another in a linear way where each layer gets tensor as I/P as weel as O/P\n",
        "model.add(layers.Conv2D(32,(3,3),activation='relu',input_shape=(img_size,img_size,3)))\n",
        "model.add(layers.MaxPooling2D((2,2)))\n",
        "model.add(layers.Conv2D(64,(3,3),activation='relu'))\n",
        "model.add(layers.MaxPooling2D((2,2)))\n",
        "model.add(layers.Flatten()) #flattens multi-D data into 1D\n",
        "model.add(layers.Dense(256,activation='relu'))\n",
        "model.add(layers.Dense(train.num_classes,activation='softmax'))\n",
        "\n"
      ]
    },
    {
      "cell_type": "code",
      "source": [
        "model.summary()"
      ],
      "metadata": {
        "id": "wsIcVQ0LQ8EK",
        "colab": {
          "base_uri": "https://localhost:8080/"
        },
        "outputId": "d994ac8d-daba-4a81-fadb-f93cd4bbca66"
      },
      "execution_count": null,
      "outputs": [
        {
          "output_type": "stream",
          "name": "stdout",
          "text": [
            "Model: \"sequential\"\n",
            "_________________________________________________________________\n",
            " Layer (type)                Output Shape              Param #   \n",
            "=================================================================\n",
            " conv2d (Conv2D)             (None, 208, 208, 32)      896       \n",
            "                                                                 \n",
            " max_pooling2d (MaxPooling2  (None, 104, 104, 32)      0         \n",
            " D)                                                              \n",
            "                                                                 \n",
            " conv2d_1 (Conv2D)           (None, 102, 102, 64)      18496     \n",
            "                                                                 \n",
            " max_pooling2d_1 (MaxPoolin  (None, 51, 51, 64)        0         \n",
            " g2D)                                                            \n",
            "                                                                 \n",
            " flatten (Flatten)           (None, 166464)            0         \n",
            "                                                                 \n",
            " dense (Dense)               (None, 256)               42615040  \n",
            "                                                                 \n",
            " dense_1 (Dense)             (None, 38)                9766      \n",
            "                                                                 \n",
            "=================================================================\n",
            "Total params: 42644198 (162.67 MB)\n",
            "Trainable params: 42644198 (162.67 MB)\n",
            "Non-trainable params: 0 (0.00 Byte)\n",
            "_________________________________________________________________\n"
          ]
        }
      ]
    },
    {
      "cell_type": "markdown",
      "metadata": {
        "id": "t_bSXJcOL0_7"
      },
      "source": [
        "softmax: This specifies the activation function for the output layer. The softmax activation function is used for multi-class classification problems. It converts the logits (raw prediction scores) into probabilities that sum up to 1, making it suitable for classification.\n",
        "\n",
        "relu: This specifies the activation function used in this layer. The ReLU (Rectified Linear Unit) activation function introduces non-linearity to the model, allowing it to learn more complex patterns.\n",
        "\n"
      ]
    },
    {
      "cell_type": "code",
      "execution_count": null,
      "metadata": {
        "id": "eSZ63s23KpS2"
      },
      "outputs": [],
      "source": [
        "model.compile(optimizer='adam',loss='categorical_crossentropy',metrics=['accuracy'])"
      ]
    },
    {
      "cell_type": "markdown",
      "metadata": {
        "id": "bg_TNhHnPTbb"
      },
      "source": [
        "adam: The optimizer determines how the model's weights are updated based on the gradient descent algorithm. 'adam' is one of the most commonly used optimizers in deep learning. It adjusts the learning rate throughout training, making it an adaptive optimizer suitable for a wide range of problems.\n",
        "\n",
        "loss: The loss function measures how well the model performs during training and is used to minimize the error between the predicted outputs and the actual outputs (labels). 'categorical_crossentropy' is typically used for multi-class classification problems where each example belongs to one of several classes. It calculates the cross-entropy loss between the predicted probability distribution and the true distribution of the target classes.\n",
        "\n",
        "For binary classification, 'binary_crossentropy' is commonly used. For regression tasks, mean squared error ('mse') or mean absolute error ('mae') are often used.\n",
        "\n",
        "\n",
        "accuracy: Metrics are used to monitor the training and evaluation process. 'accuracy' is a widely used metric for classification tasks that calculates the proportion of correct predictions to the total number of predictions made. During training, it provides an easy-to-understand indication of how well the model is performing.\n",
        "\n",
        "Other metrics like 'precision', 'recall', and 'f1-score' can also be used depending on the specific requirements of the problem."
      ]
    },
    {
      "cell_type": "code",
      "source": [
        "from keras.callbacks import EarlyStopping"
      ],
      "metadata": {
        "id": "pvKZUJQdIbmo"
      },
      "execution_count": null,
      "outputs": []
    },
    {
      "cell_type": "code",
      "source": [
        "callback=EarlyStopping(monitor='accuracy', verbose=1, patience=1, baseline=None, mode='auto')"
      ],
      "metadata": {
        "id": "Ib1BWYcYpD8u"
      },
      "execution_count": null,
      "outputs": []
    },
    {
      "cell_type": "code",
      "execution_count": null,
      "metadata": {
        "colab": {
          "base_uri": "https://localhost:8080/"
        },
        "id": "ltS2JI7PPD8c",
        "outputId": "eef8399e-8314-4ee8-d81a-315810082a4f"
      },
      "outputs": [
        {
          "output_type": "stream",
          "name": "stdout",
          "text": [
            "Epoch 1/10\n",
            "679/679 [==============================] - 155s 218ms/step - loss: 1.2570 - accuracy: 0.6774 - val_loss: 0.5651 - val_accuracy: 0.8273\n",
            "Epoch 2/10\n",
            "679/679 [==============================] - 148s 218ms/step - loss: 0.3760 - accuracy: 0.8831 - val_loss: 0.4424 - val_accuracy: 0.8636\n",
            "Epoch 3/10\n",
            "679/679 [==============================] - 148s 217ms/step - loss: 0.1642 - accuracy: 0.9479 - val_loss: 0.4608 - val_accuracy: 0.8609\n",
            "Epoch 4/10\n",
            "679/679 [==============================] - 123s 181ms/step - loss: 0.0941 - accuracy: 0.9694 - val_loss: 0.5445 - val_accuracy: 0.8699\n",
            "Epoch 5/10\n",
            "679/679 [==============================] - 130s 191ms/step - loss: 0.0752 - accuracy: 0.9751 - val_loss: 0.4630 - val_accuracy: 0.8895\n",
            "Epoch 6/10\n",
            "679/679 [==============================] - 128s 188ms/step - loss: 0.0445 - accuracy: 0.9858 - val_loss: 0.6063 - val_accuracy: 0.8685\n",
            "Epoch 7/10\n",
            "679/679 [==============================] - 145s 213ms/step - loss: 0.0499 - accuracy: 0.9843 - val_loss: 0.5910 - val_accuracy: 0.8789\n",
            "Epoch 7: early stopping\n"
          ]
        }
      ],
      "source": [
        "history=model.fit(train, steps_per_epoch=train.samples//batch_size, epochs=10, validation_data=validation, validation_steps=validation.samples//batch_size, callbacks=callback)"
      ]
    },
    {
      "cell_type": "code",
      "execution_count": null,
      "metadata": {
        "id": "vPtLeHe6Q8RQ",
        "colab": {
          "base_uri": "https://localhost:8080/"
        },
        "outputId": "8870d064-51ea-48d8-bab2-0e651dd6b150"
      },
      "outputs": [
        {
          "output_type": "stream",
          "name": "stdout",
          "text": [
            "169/169 [==============================] - 24s 139ms/step - loss: 0.5910 - accuracy: 0.8791\n",
            "Validation Accuracy:87.91%\n"
          ]
        }
      ],
      "source": [
        "val_loss, val_accuracy= model.evaluate(validation,steps=validation.samples//batch_size)\n",
        "print(f\"Validation Accuracy:{val_accuracy*100:.2f}%\")"
      ]
    },
    {
      "cell_type": "code",
      "source": [
        "plt.plot(history.history['accuracy'])\n",
        "plt.plot(history.history['val_accuracy'])\n",
        "plt.title('Model accuracy')\n",
        "plt.ylabel('Accuracy')\n",
        "plt.xlabel('Epoch')\n",
        "plt.legend(['Train', 'Test'], loc='upper left')\n",
        "plt.show()\n",
        "\n",
        "\n",
        "plt.plot(history.history['loss'])\n",
        "plt.plot(history.history['val_loss'])\n",
        "plt.title('Model loss')\n",
        "plt.ylabel('Loss')\n",
        "plt.xlabel('Epoch')\n",
        "plt.legend(['Train', 'Test'], loc='upper left')\n",
        "plt.show()"
      ],
      "metadata": {
        "colab": {
          "base_uri": "https://localhost:8080/",
          "height": 927
        },
        "id": "PEwXZBbGnuSN",
        "outputId": "5fe49748-7993-4aa5-af56-043a01731ee4"
      },
      "execution_count": null,
      "outputs": [
        {
          "output_type": "display_data",
          "data": {
            "text/plain": [
              "<Figure size 640x480 with 1 Axes>"
            ],
            "image/png": "[encoded data removed]"
          },
          "metadata": {}
        },
        {
          "output_type": "display_data",
          "data": {
            "text/plain": [
              "<Figure size 640x480 with 1 Axes>"
            ],
            "image/png": "[encoded data removed]"
          },
          "metadata": {}
        }
      ]
    },
    {
      "cell_type": "code",
      "source": [
        "def loadandprepimage(image_path,target_size=(210,210)):\n",
        "  img=Image.open(image_path)\n",
        "  img=img.resize(target_size)\n",
        "  img_arr=np.array(img)\n",
        "  img_arr=np.expand_dims(img_arr,axis=0)\n",
        "  img_arr=img_arr/255.0\n",
        "  return img_arr\n",
        "\n",
        "def predictimage(model, image_path, class_indices):\n",
        "  preprocessed_img=loadandprepimage(image_path)\n",
        "  prediction=model.predict(preprocessed_img)\n",
        "  predicted_class=np.argmax(prediction, axis=1)[0]\n",
        "  predicted_class_name=class_indices[predicted_class]\n",
        "  return predicted_class_name"
      ],
      "metadata": {
        "id": "dxM3zExcLSGN"
      },
      "execution_count": null,
      "outputs": []
    },
    {
      "cell_type": "code",
      "source": [
        "class_indices={v: k for k, v in train.class_indices.items()}"
      ],
      "metadata": {
        "id": "UKJYeFJBMpLx"
      },
      "execution_count": null,
      "outputs": []
    },
    {
      "cell_type": "code",
      "source": [
        "json.dump(class_indices,open(\"class_indices.json\",\"w\"))"
      ],
      "metadata": {
        "id": "O3yMsCuuNh9j"
      },
      "execution_count": null,
      "outputs": []
    },
    {
      "cell_type": "code",
      "source": [
        "import pickle\n",
        "filename='plant_disease.pkl'\n",
        "pickle.dump(model,open(filename,'wb'))"
      ],
      "metadata": {
        "id": "8fjXNkHI8qzt"
      },
      "execution_count": null,
      "outputs": []
    },
    {
      "cell_type": "code",
      "source": [],
      "metadata": {
        "id": "CcHagGS181mf"
      },
      "execution_count": null,
      "outputs": []
    }
  ],
  "metadata": {
    "colab": {
      "provenance": [],
      "gpuType": "T4"
    },
    "kernelspec": {
      "display_name": "Python 3",
      "name": "python3"
    },
    "language_info": {
      "name": "python"
    },
    "accelerator": "GPU"
  },
  "nbformat": 4,
  "nbformat_minor": 0
}